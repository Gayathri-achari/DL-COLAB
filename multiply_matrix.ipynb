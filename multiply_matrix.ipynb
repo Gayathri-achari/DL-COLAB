{
  "nbformat": 4,
  "nbformat_minor": 0,
  "metadata": {
    "colab": {
      "provenance": [],
      "authorship_tag": "ABX9TyNko9a0erLRJe1dRTetD4g7",
      "include_colab_link": true
    },
    "kernelspec": {
      "name": "python3",
      "display_name": "Python 3"
    },
    "language_info": {
      "name": "python"
    }
  },
  "cells": [
    {
      "cell_type": "markdown",
      "metadata": {
        "id": "view-in-github",
        "colab_type": "text"
      },
      "source": [
        "<a href=\"https://colab.research.google.com/github/Gayathri-achari/DL-COLAB/blob/Matrices/multiply_matrix.ipynb\" target=\"_parent\"><img src=\"https://colab.research.google.com/assets/colab-badge.svg\" alt=\"Open In Colab\"/></a>"
      ]
    },
    {
      "cell_type": "code",
      "execution_count": 2,
      "metadata": {
        "id": "6eNnMwTVF0WH"
      },
      "outputs": [],
      "source": [
        "import numpy as np\n",
        "import tensorflow as tf\n",
        "from tensorflow import keras\n",
        "from tensorflow.keras import layers\n"
      ]
    },
    {
      "cell_type": "code",
      "source": [
        "def generate_data(num_samples, matrix_size):\n",
        "    X1 = np.random.rand(num_samples, matrix_size, matrix_size)\n",
        "    X2 = np.random.rand(num_samples, matrix_size, matrix_size)\n",
        "    Y = np.array([np.matmul(x1, x2) for x1, x2 in zip(X1, X2)])\n",
        "    return X1, X2, Y\n",
        "\n",
        "matrix_size = 3  # Example size of the matrices\n",
        "num_samples = 1000  # Number of training samples\n",
        "\n",
        "X1_train, X2_train, Y_train = generate_data(num_samples, matrix_size)\n"
      ],
      "metadata": {
        "id": "8XLYloUnGz0q"
      },
      "execution_count": 3,
      "outputs": []
    },
    {
      "cell_type": "code",
      "source": [
        "def create_model(matrix_size):\n",
        "    input_shape = (matrix_size, matrix_size)\n",
        "\n",
        "    model = keras.Sequential([\n",
        "        layers.Input(shape=input_shape, name='input1'),\n",
        "        layers.Flatten(),\n",
        "        layers.Dense(matrix_size * matrix_size, activation='linear'),\n",
        "        layers.Reshape((matrix_size, matrix_size))\n",
        "    ])\n",
        "\n",
        "    model.compile(optimizer='adam', loss='mean_squared_error')\n",
        "    return model\n",
        "\n",
        "model = create_model(matrix_size)\n"
      ],
      "metadata": {
        "id": "lJbPA-AoG4lR"
      },
      "execution_count": 4,
      "outputs": []
    },
    {
      "cell_type": "code",
      "source": [
        "history = model.fit(\n",
        "    X1_train,\n",
        "    Y_train,\n",
        "    epochs=10,\n",
        "    batch_size=32,\n",
        "    validation_split=0.1\n",
        ")\n"
      ],
      "metadata": {
        "colab": {
          "base_uri": "https://localhost:8080/"
        },
        "id": "D4PwGKpnG7iJ",
        "outputId": "a40061db-02c3-41ae-cd1a-0f34afb2d09a"
      },
      "execution_count": 5,
      "outputs": [
        {
          "output_type": "stream",
          "name": "stdout",
          "text": [
            "Epoch 1/10\n",
            "\u001b[1m29/29\u001b[0m \u001b[32m━━━━━━━━━━━━━━━━━━━━\u001b[0m\u001b[37m\u001b[0m \u001b[1m1s\u001b[0m 8ms/step - loss: 1.1403 - val_loss: 0.9593\n",
            "Epoch 2/10\n",
            "\u001b[1m29/29\u001b[0m \u001b[32m━━━━━━━━━━━━━━━━━━━━\u001b[0m\u001b[37m\u001b[0m \u001b[1m0s\u001b[0m 2ms/step - loss: 0.9085 - val_loss: 0.7716\n",
            "Epoch 3/10\n",
            "\u001b[1m29/29\u001b[0m \u001b[32m━━━━━━━━━━━━━━━━━━━━\u001b[0m\u001b[37m\u001b[0m \u001b[1m0s\u001b[0m 3ms/step - loss: 0.7235 - val_loss: 0.6261\n",
            "Epoch 4/10\n",
            "\u001b[1m29/29\u001b[0m \u001b[32m━━━━━━━━━━━━━━━━━━━━\u001b[0m\u001b[37m\u001b[0m \u001b[1m0s\u001b[0m 3ms/step - loss: 0.5955 - val_loss: 0.5143\n",
            "Epoch 5/10\n",
            "\u001b[1m29/29\u001b[0m \u001b[32m━━━━━━━━━━━━━━━━━━━━\u001b[0m\u001b[37m\u001b[0m \u001b[1m0s\u001b[0m 3ms/step - loss: 0.4783 - val_loss: 0.4280\n",
            "Epoch 6/10\n",
            "\u001b[1m29/29\u001b[0m \u001b[32m━━━━━━━━━━━━━━━━━━━━\u001b[0m\u001b[37m\u001b[0m \u001b[1m0s\u001b[0m 3ms/step - loss: 0.4070 - val_loss: 0.3612\n",
            "Epoch 7/10\n",
            "\u001b[1m29/29\u001b[0m \u001b[32m━━━━━━━━━━━━━━━━━━━━\u001b[0m\u001b[37m\u001b[0m \u001b[1m0s\u001b[0m 3ms/step - loss: 0.3434 - val_loss: 0.3099\n",
            "Epoch 8/10\n",
            "\u001b[1m29/29\u001b[0m \u001b[32m━━━━━━━━━━━━━━━━━━━━\u001b[0m\u001b[37m\u001b[0m \u001b[1m0s\u001b[0m 3ms/step - loss: 0.2994 - val_loss: 0.2701\n",
            "Epoch 9/10\n",
            "\u001b[1m29/29\u001b[0m \u001b[32m━━━━━━━━━━━━━━━━━━━━\u001b[0m\u001b[37m\u001b[0m \u001b[1m0s\u001b[0m 3ms/step - loss: 0.2475 - val_loss: 0.2401\n",
            "Epoch 10/10\n",
            "\u001b[1m29/29\u001b[0m \u001b[32m━━━━━━━━━━━━━━━━━━━━\u001b[0m\u001b[37m\u001b[0m \u001b[1m0s\u001b[0m 3ms/step - loss: 0.2350 - val_loss: 0.2168\n"
          ]
        }
      ]
    },
    {
      "cell_type": "code",
      "source": [
        "X1_test, X2_test, Y_test = generate_data(100, matrix_size)\n",
        "loss = model.evaluate(X1_test, Y_test)\n",
        "print(f'Test loss: {loss}')\n"
      ],
      "metadata": {
        "colab": {
          "base_uri": "https://localhost:8080/"
        },
        "id": "vBulM9NxG_Dx",
        "outputId": "b022a50b-4d81-44c7-a3ef-6719be310637"
      },
      "execution_count": 6,
      "outputs": [
        {
          "output_type": "stream",
          "name": "stdout",
          "text": [
            "\u001b[1m4/4\u001b[0m \u001b[32m━━━━━━━━━━━━━━━━━━━━\u001b[0m\u001b[37m\u001b[0m \u001b[1m0s\u001b[0m 4ms/step - loss: 0.2464 \n",
            "Test loss: 0.24975375831127167\n"
          ]
        }
      ]
    },
    {
      "cell_type": "code",
      "source": [
        "predictions = model.predict(X1_test)\n",
        "print(\"Predicted:\", predictions[0])\n",
        "print(\"Actual   :\", Y_test[0])\n"
      ],
      "metadata": {
        "colab": {
          "base_uri": "https://localhost:8080/"
        },
        "id": "YSGGJJ3VHC7R",
        "outputId": "c93e13e3-e4c2-4c14-c5ed-ea8b3d0b756e"
      },
      "execution_count": 7,
      "outputs": [
        {
          "output_type": "stream",
          "name": "stdout",
          "text": [
            "\u001b[1m4/4\u001b[0m \u001b[32m━━━━━━━━━━━━━━━━━━━━\u001b[0m\u001b[37m\u001b[0m \u001b[1m0s\u001b[0m 15ms/step\n",
            "Predicted: [[0.6338152  0.5910124  0.47298926]\n",
            " [0.60752267 0.67211854 0.48750293]\n",
            " [0.8043518  0.73610514 1.0634193 ]]\n",
            "Actual   : [[1.49873588 0.80331152 1.41385112]\n",
            " [0.80014766 0.69881076 1.08623615]\n",
            " [0.7832651  0.26816477 0.55988778]]\n"
          ]
        }
      ]
    }
  ]
}
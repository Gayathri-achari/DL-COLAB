{
  "nbformat": 4,
  "nbformat_minor": 0,
  "metadata": {
    "colab": {
      "provenance": [],
      "authorship_tag": "ABX9TyMgzIlq/1u4D8rBQbMAUJ9B",
      "include_colab_link": true
    },
    "kernelspec": {
      "name": "python3",
      "display_name": "Python 3"
    },
    "language_info": {
      "name": "python"
    }
  },
  "cells": [
    {
      "cell_type": "markdown",
      "metadata": {
        "id": "view-in-github",
        "colab_type": "text"
      },
      "source": [
        "<a href=\"https://colab.research.google.com/github/Gayathri-achari/DL-COLAB/blob/Matrices/recurrent_neural_network_1.ipynb\" target=\"_parent\"><img src=\"https://colab.research.google.com/assets/colab-badge.svg\" alt=\"Open In Colab\"/></a>"
      ]
    },
    {
      "cell_type": "markdown",
      "source": [
        "Numpy implement of a simple recurrent neural network"
      ],
      "metadata": {
        "id": "sg6VjSXWTVCl"
      }
    },
    {
      "cell_type": "code",
      "execution_count": 1,
      "metadata": {
        "colab": {
          "base_uri": "https://localhost:8080/"
        },
        "id": "B1gGk478OXnk",
        "outputId": "8e664b05-7dd7-4fa2-8a61-cea5560a0fb8"
      },
      "outputs": [
        {
          "output_type": "stream",
          "name": "stdout",
          "text": [
            "[[0.7573128  0.76827055 0.77822667]\n",
            " [0.79694765 0.80774661 0.81747061]]\n"
          ]
        }
      ],
      "source": [
        "import numpy as np\n",
        "\n",
        "def sigmoid(x):\n",
        "    return 1 / (1 + np.exp(-x))\n",
        "\n",
        "def rnn_forward_pass(inputs, weights, biases):\n",
        "    hidden_state = np.zeros((inputs.shape[0], 1))\n",
        "    outputs = []\n",
        "\n",
        "    for t in range(inputs.shape[1]):\n",
        "        hidden_state = sigmoid(np.dot(inputs[:, t], weights) + biases)\n",
        "        output = sigmoid(np.dot(hidden_state, weights) + biases)\n",
        "        outputs.append(output)\n",
        "\n",
        "    return np.array(outputs).T\n",
        "\n",
        "# Example usage\n",
        "inputs = np.array([[0.1, 0.2, 0.3], [0.4, 0.5, 0.6]])\n",
        "weights = np.array([[0.7, 0.8], [0.9, 1.0]])\n",
        "biases = np.array([0.1, 0.2])\n",
        "\n",
        "outputs = rnn_forward_pass(inputs, weights, biases)\n",
        "print(outputs)"
      ]
    },
    {
      "cell_type": "markdown",
      "source": [
        "Create a recurrent layer in keras"
      ],
      "metadata": {
        "id": "xkt5v8HoTO_U"
      }
    },
    {
      "cell_type": "code",
      "source": [
        "from keras.layers import LSTM, GRU, SimpleRNN\n",
        "timesteps = 10\n",
        "features = 5\n",
        "\n",
        "simple_rnn_layer = SimpleRNN(units=128, input_shape=(timesteps, features))\n",
        "\n",
        "lstm_layer = LSTM(units=128, input_shape=(timesteps, features))\n",
        "\n",
        "gru_layer = GRU(units=128, input_shape=(timesteps, features))"
      ],
      "metadata": {
        "colab": {
          "base_uri": "https://localhost:8080/"
        },
        "id": "5I-8qJC2QxJy",
        "outputId": "d7884d25-d3bb-4fcf-fddb-2543df4fd889"
      },
      "execution_count": 4,
      "outputs": [
        {
          "output_type": "stream",
          "name": "stderr",
          "text": [
            "/usr/local/lib/python3.10/dist-packages/keras/src/layers/rnn/rnn.py:204: UserWarning: Do not pass an `input_shape`/`input_dim` argument to a layer. When using Sequential models, prefer using an `Input(shape)` object as the first layer in the model instead.\n",
            "  super().__init__(**kwargs)\n"
          ]
        }
      ]
    },
    {
      "cell_type": "code",
      "source": [
        "lstm_layer = LSTM(units=128,\n",
        "                  input_shape=(timesteps, features),\n",
        "                  return_sequences=True,\n",
        "                  stateful=False,\n",
        "                  dropout=0.2,\n",
        "                  recurrent_dropout=0.1)\n",
        "from keras.models import Sequential\n",
        "\n",
        "model = Sequential()\n",
        "model.add(lstm_layer)\n"
      ],
      "metadata": {
        "id": "6zNrcmVFSG81"
      },
      "execution_count": 10,
      "outputs": []
    },
    {
      "cell_type": "code",
      "source": [
        "from keras.layers import RNN\n",
        "from keras.layers import LSTMCell\n",
        "\n",
        "rnn_layer = RNN(cell=LSTMCell(units=128), input_shape=(timesteps, features))\n",
        "print(rnn_layer)"
      ],
      "metadata": {
        "colab": {
          "base_uri": "https://localhost:8080/"
        },
        "id": "S7SEU_NuS08x",
        "outputId": "174705a3-234e-49cb-cc8d-d4f1abbfd405"
      },
      "execution_count": 12,
      "outputs": [
        {
          "output_type": "stream",
          "name": "stdout",
          "text": [
            "<RNN name=rnn_2, built=False>\n"
          ]
        },
        {
          "output_type": "stream",
          "name": "stderr",
          "text": [
            "/usr/local/lib/python3.10/dist-packages/keras/src/layers/rnn/rnn.py:204: UserWarning: Do not pass an `input_shape`/`input_dim` argument to a layer. When using Sequential models, prefer using an `Input(shape)` object as the first layer in the model instead.\n",
            "  super().__init__(**kwargs)\n"
          ]
        }
      ]
    },
    {
      "cell_type": "code",
      "source": [],
      "metadata": {
        "id": "-a3DzPGsaTus"
      },
      "execution_count": null,
      "outputs": []
    }
  ]
}
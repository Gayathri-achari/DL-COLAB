{
  "nbformat": 4,
  "nbformat_minor": 0,
  "metadata": {
    "colab": {
      "provenance": [],
      "authorship_tag": "ABX9TyPoJwXXR2YUHbtQrtk/BBBS",
      "include_colab_link": true
    },
    "kernelspec": {
      "name": "python3",
      "display_name": "Python 3"
    },
    "language_info": {
      "name": "python"
    }
  },
  "cells": [
    {
      "cell_type": "markdown",
      "metadata": {
        "id": "view-in-github",
        "colab_type": "text"
      },
      "source": [
        "<a href=\"https://colab.research.google.com/github/Gayathri-achari/DL-COLAB/blob/Matrices/matrices.ipynb\" target=\"_parent\"><img src=\"https://colab.research.google.com/assets/colab-badge.svg\" alt=\"Open In Colab\"/></a>"
      ]
    },
    {
      "cell_type": "code",
      "execution_count": 1,
      "metadata": {
        "colab": {
          "base_uri": "https://localhost:8080/"
        },
        "id": "pa9PAAgCLGlW",
        "outputId": "748b8124-a874-41bf-e92e-d1ed39b4686e"
      },
      "outputs": [
        {
          "output_type": "stream",
          "name": "stdout",
          "text": [
            "Matrix A:\n",
            "[1, 2, 3]\n",
            "[4, 5, 6]\n",
            "[7, 8, 9]\n",
            "\n",
            "Matrix B:\n",
            "[9, 8, 7]\n",
            "[6, 5, 4]\n",
            "[3, 2, 1]\n",
            "\n",
            "Matrix A + B:\n",
            "[10, 10, 10]\n",
            "[10, 10, 10]\n",
            "[10, 10, 10]\n"
          ]
        }
      ],
      "source": [
        "def add_matrices(A, B):\n",
        "    C = [[0, 0, 0],\n",
        "         [0, 0, 0],\n",
        "         [0, 0, 0]]\n",
        "    for i in range(3):\n",
        "        for j in range(3):\n",
        "            C[i][j] = A[i][j] + B[i][j]\n",
        "\n",
        "    return C\n",
        "\n",
        "\n",
        "A = [[1, 2, 3],\n",
        "     [4, 5, 6],\n",
        "     [7, 8, 9]]\n",
        "\n",
        "B = [[9, 8, 7],\n",
        "     [6, 5, 4],\n",
        "     [3, 2, 1]]\n",
        "\n",
        "result = add_matrices(A, B)\n",
        "\n",
        "print(\"Matrix A:\")\n",
        "for row in A:\n",
        "    print(row)\n",
        "\n",
        "print(\"\\nMatrix B:\")\n",
        "for row in B:\n",
        "    print(row)\n",
        "\n",
        "print(\"\\nMatrix A + B:\")\n",
        "for row in result:\n",
        "    print(row)"
      ]
    },
    {
      "cell_type": "code",
      "source": [
        "def add_matrices(n):\n",
        "    A = []\n",
        "    B = []\n",
        "\n",
        "    print(f\"Enter {n}x{n} matrix A:\")\n",
        "    for i in range(n):\n",
        "        row = list(map(int, input().split()))\n",
        "        A.append(row)\n",
        "\n",
        "    print(f\"Enter {n}x{n} matrix B:\")\n",
        "    for i in range(n):\n",
        "        row = list(map(int, input().split()))\n",
        "        B.append(row)\n",
        "\n",
        "    C = [[0]*n for _ in range(n)]\n",
        "\n",
        "    for i in range(n):\n",
        "        for j in range(n):\n",
        "            C[i][j] = A[i][j] + B[i][j]\n",
        "\n",
        "    return C\n",
        "\n",
        "n = int(input(\"Enter the size (n) of the matrices: \"))\n",
        "result = add_matrices(n)\n",
        "print(\"\\nMatrix A:\")\n",
        "for row in result:\n",
        "    print(row)\n",
        "\n"
      ],
      "metadata": {
        "colab": {
          "base_uri": "https://localhost:8080/"
        },
        "id": "twwJKHD8SfwH",
        "outputId": "461c7638-7cee-4cbe-ab58-6c68d4297f51"
      },
      "execution_count": 7,
      "outputs": [
        {
          "output_type": "stream",
          "name": "stdout",
          "text": [
            "Enter the size (n) of the matrices: 2\n",
            "Enter 2x2 matrix A:\n",
            "1 2\n",
            "3 4\n",
            "Enter 2x2 matrix B:\n",
            "5 6\n",
            "7 8\n",
            "\n",
            "Matrix A:\n",
            "[6, 8]\n",
            "[10, 12]\n"
          ]
        }
      ]
    }
  ]
}
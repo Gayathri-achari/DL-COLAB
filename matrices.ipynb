{
  "nbformat": 4,
  "nbformat_minor": 0,
  "metadata": {
    "colab": {
      "provenance": [],
      "authorship_tag": "ABX9TyOR17jqPXc0+lue+7SwlxgZ",
      "include_colab_link": true
    },
    "kernelspec": {
      "name": "python3",
      "display_name": "Python 3"
    },
    "language_info": {
      "name": "python"
    }
  },
  "cells": [
    {
      "cell_type": "markdown",
      "metadata": {
        "id": "view-in-github",
        "colab_type": "text"
      },
      "source": [
        "<a href=\"https://colab.research.google.com/github/Gayathri-achari/DL-COLAB/blob/Matrices/matrices.ipynb\" target=\"_parent\"><img src=\"https://colab.research.google.com/assets/colab-badge.svg\" alt=\"Open In Colab\"/></a>"
      ]
    },
    {
      "cell_type": "code",
      "execution_count": null,
      "metadata": {
        "id": "pa9PAAgCLGlW"
      },
      "outputs": [],
      "source": [
        "def add_matrices(A, B):\n",
        "    C = [[0, 0, 0],\n",
        "         [0, 0, 0],\n",
        "         [0, 0, 0]]\n",
        "    for i in range(3):\n",
        "        for j in range(3):\n",
        "            C[i][j] = A[i][j] + B[i][j]\n",
        "\n",
        "    return C\n",
        "\n",
        "\n",
        "A = [[1, 2, 3],\n",
        "     [4, 5, 6],\n",
        "     [7, 8, 9]]\n",
        "\n",
        "B = [[9, 8, 7],\n",
        "     [6, 5, 4],\n",
        "     [3, 2, 1]]\n",
        "\n",
        "result = add_matrices(A, B)\n",
        "\n",
        "print(\"Matrix A:\")\n",
        "for row in A:\n",
        "    print(row)\n",
        "\n",
        "print(\"\\nMatrix B:\")\n",
        "for row in B:\n",
        "    print(row)\n",
        "\n",
        "print(\"\\nMatrix A + B:\")\n",
        "for row in result:\n",
        "    print(row)"
      ]
    }
  ]
}